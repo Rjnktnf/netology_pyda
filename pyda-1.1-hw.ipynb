{
 "cells": [
  {
   "cell_type": "markdown",
   "metadata": {},
   "source": [
    "**Задание 1**. Даны 2 строки: *long_phrase* и *short_phrase*. \n",
    "Напишите код, который проверяет действительно ли длинная фраза *long_phrase* длиннее короткой *short_phrase*. И выводит *True* или *False* в зависимости от результата сравнения."
   ]
  },
  {
   "cell_type": "code",
   "execution_count": 1,
   "metadata": {},
   "outputs": [],
   "source": [
    "long_phrase = 'Насколько проще было бы писать программы, если бы не заказчики'\n",
    "short_phrase = '640Кб должно хватить для любых задач. Билл Гейтс (по легенде)'"
   ]
  },
  {
   "cell_type": "code",
   "execution_count": 29,
   "metadata": {},
   "outputs": [
    {
     "data": {
      "text/plain": [
       "False"
      ]
     },
     "execution_count": 29,
     "metadata": {},
     "output_type": "execute_result"
    }
   ],
   "source": [
    "len ('long_phrase') > len ('short_phrase')"
   ]
  },
  {
   "cell_type": "markdown",
   "metadata": {},
   "source": [
    "**Задание 2**. Дано значение объема файла в байтах. Напишите перевод этого значения в мегабайты в формате: \"*Объем файла равен 213.68Mb*\""
   ]
  },
  {
   "cell_type": "code",
   "execution_count": 30,
   "metadata": {},
   "outputs": [
    {
     "name": "stdout",
     "output_type": "stream",
     "text": [
      "Объем файла равен 213.68 Mb\n"
     ]
    }
   ],
   "source": [
    "y=213680000\n",
    "x=y/1000000\n",
    "print ('Объем файла равен',x,'Mb')"
   ]
  },
  {
   "cell_type": "markdown",
   "metadata": {},
   "source": [
    "**Задание 3**. Разработать приложение для определения знака зодиака по дате рождения. Пример:\n",
    "\n",
    "Введите месяц: март\n",
    "\n",
    "Введите число: 6\n",
    "\n",
    "Вывод:\n",
    "Рыбы"
   ]
  },
  {
   "cell_type": "code",
   "execution_count": 45,
   "metadata": {},
   "outputs": [
    {
     "name": "stdout",
     "output_type": "stream",
     "text": [
      "Введите месяц: март\n",
      "Введите день: 6\n",
      "Рыбы\n",
      "Сегодня удача на вашей стороне! Затраченные усилия обернутся результатом, превосходящим все ожидания ;)\n"
     ]
    }
   ],
   "source": [
    "month = input('Введите месяц: ')\n",
    "day = int (input('Введите день: '))\n",
    "if month =='март' and day < 21:\n",
    "    print('Рыбы')\n",
    "elif month =='март' and day >= 21:\n",
    "    print('Овен')\n",
    "elif month =='апрель' and day <= 20:\n",
    "    print('Овен')\n",
    "elif month =='апрель' and day > 20:\n",
    "    print('Телец')\n",
    "elif month =='май' and day <= 21:\n",
    "    print('Телец')\n",
    "elif month =='май' and day > 21:\n",
    "    print('Близнецы')\n",
    "elif month =='июнь' and day <= 21:\n",
    "    print('Близнецы')\n",
    "elif month =='июнь' and day > 21:\n",
    "    print('Рак')\n",
    "elif month =='июль' and day <= 21:\n",
    "    print('Рак')\n",
    "elif month =='июль' and day > 21:\n",
    "    print('Лев')\n",
    "elif month =='август' and day <= 21:\n",
    "    print('Лев')\n",
    "elif month =='август' and day > 21:\n",
    "    print('Дева')\n",
    "elif month =='сентябрь' and day <= 21:\n",
    "    print('Дева')\n",
    "elif month =='сентябрь' and day > 21:\n",
    "    print('Весы')\n",
    "elif month =='октябрь' and day <= 21:\n",
    "    print('Весы')\n",
    "elif month =='октябрь' and day > 21:\n",
    "    print('Скорпион')\n",
    "elif month =='ноябрь' and day <= 21:\n",
    "    print('Скорпион')\n",
    "elif month =='ноябрь' and day > 21:\n",
    "    print('Стрелец')\n",
    "elif month =='декабрь' and day <= 21:\n",
    "    print('Стрелец')\n",
    "elif month =='декабрь' and day > 21:\n",
    "    print('Козерог')\n",
    "elif month =='январь' and day <= 21:\n",
    "    print('Козерог')\n",
    "elif month =='январь' and day > 21:\n",
    "    print('Водолей')\n",
    "elif month =='февраль' and day <= 21:\n",
    "    print('Водолей')\n",
    "elif month =='февраль' and day > 21:\n",
    "    print('Рыбы')\n",
    "else:\n",
    "    print('Внимание!Этого дня рождения нет в земном календаре. Люди в черном уже близко')\n",
    "print('Сегодня удача на вашей стороне! Затраченные усилия обернутся результатом, превосходящим все ожидания ;)')\n"
   ]
  },
  {
   "cell_type": "markdown",
   "metadata": {},
   "source": [
    "**Задание 4**. Нужно разработать приложение для финансового планирования.\n",
    "Приложение учитывает сколько уходит на ипотеку, \"на жизнь\" и сколько нужно отложить на пенсию.\n",
    "Пользователь вводит:\n",
    "- заработанную плату в месяц.\n",
    "- сколько процентов от ЗП уходит на ипотеку.\n",
    "- сколько процентов от ЗП уходит \"на жизнь\".\n",
    "- сколько раз приходит премия в год.\n",
    "\n",
    "Остальная часть заработанной платы откладывается на пенсию.\n",
    "\n",
    "Также пользователю приходит премия в размере зарплаты, от которой половина уходит на отпуск, а вторая половина откладывается.\n",
    "\n",
    "Программа должна учитывать сколько премий было в год.\n",
    "\n",
    "Нужно вывести сколько денег тратит пользователь на ипотеку и сколько он накопит за год.\n",
    "\n",
    "Пример:\n",
    "\n",
    "Введите заработанную плату в месяц: 100000\n",
    "\n",
    "Введите сколько процентов уходит на ипотеку: 30\n",
    "\n",
    "Введите сколько процентов уходит на жизнь: 50\n",
    "\n",
    "Введите количество премий за год: 2\n",
    "\n",
    "Вывод:\n",
    "На ипотеку было потрачено: 360000 рублей\n",
    "Было накоплено: 340000 рублей"
   ]
  },
  {
   "cell_type": "code",
   "execution_count": 50,
   "metadata": {},
   "outputs": [
    {
     "name": "stdout",
     "output_type": "stream",
     "text": [
      "Введите размер заработка в месяц: 100000\n",
      "Введите, сколько процентов от заработка уходит на ипотеку: 30\n",
      "Введите, сколько процентов от заработка уходит на \"жизнь\": 50\n",
      "Введите, сколько раз в год приходит премия: 2\n",
      "На ипотеку было потрачено 360000.0 рублей Было накоплено 340000.0 рублей\n"
     ]
    }
   ],
   "source": [
    "salary = int (input('Введите размер заработка в месяц: '))\n",
    "mortgage_payment = int (input('Введите, сколько процентов от заработка уходит на ипотеку: '))\n",
    "cost_of_living = int (input('Введите, сколько процентов от заработка уходит на \"жизнь\": '))\n",
    "bonus = int (input('Введите, сколько раз в год приходит премия: '))\n",
    "bonus_per_year= bonus*salary\n",
    "mortgage_payment_per_year = salary*12*mortgage_payment/100\n",
    "cost_of_living_per_year = salary*12*cost_of_living/100\n",
    "cash_accumulation = (salary*12) + (bonus_per_year/2)- mortgage_payment_per_year - cost_of_living_per_year\n",
    "print ('На ипотеку было потрачено',mortgage_payment_per_year,'рублей','Было накоплено',cash_accumulation,'рублей' )\n",
    "\n"
   ]
  },
  {
   "cell_type": "code",
   "execution_count": null,
   "metadata": {},
   "outputs": [],
   "source": []
  }
 ],
 "metadata": {
  "kernelspec": {
   "display_name": "Python 3",
   "language": "python",
   "name": "python3"
  },
  "language_info": {
   "codemirror_mode": {
    "name": "ipython",
    "version": 3
   },
   "file_extension": ".py",
   "mimetype": "text/x-python",
   "name": "python",
   "nbconvert_exporter": "python",
   "pygments_lexer": "ipython3",
   "version": "3.7.3"
  }
 },
 "nbformat": 4,
 "nbformat_minor": 2
}
